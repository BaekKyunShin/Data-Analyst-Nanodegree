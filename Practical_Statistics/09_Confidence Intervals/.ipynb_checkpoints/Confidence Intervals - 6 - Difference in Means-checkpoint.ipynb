{
 "cells": [
  {
   "cell_type": "markdown",
   "metadata": {},
   "source": [
    "### Confidence Interval - Difference In Means\n",
    "\n",
    "Here you will look through the example for the last video, but you will also go a couple of steps further into what might actually be going on with this data."
   ]
  },
  {
   "cell_type": "code",
   "execution_count": 11,
   "metadata": {},
   "outputs": [],
   "source": [
    "import pandas as pd\n",
    "import numpy as np\n",
    "import matplotlib.pyplot as plt\n",
    "\n",
    "%matplotlib inline\n",
    "np.random.seed(42)\n",
    "\n",
    "full_data = pd.read_csv('../data/coffee_dataset.csv')\n",
    "sample_data = full_data.sample(200)"
   ]
  },
  {
   "cell_type": "markdown",
   "metadata": {},
   "source": [
    "`1.` For 10,000 iterations, bootstrap sample your sample data, compute the difference in the average heights for coffee and non-coffee drinkers.  Build a 99% confidence interval using your sampling distribution.  Use your interval to start answering the first quiz question below."
   ]
  },
  {
   "cell_type": "code",
   "execution_count": 12,
   "metadata": {},
   "outputs": [
    {
     "data": {
      "text/plain": [
       "(0.10258900080921124, 2.5388333707966568)"
      ]
     },
     "execution_count": 12,
     "metadata": {},
     "output_type": "execute_result"
    }
   ],
   "source": [
    "diffs = []\n",
    "for _ in range(10000):\n",
    "    bootsamp = sample_data.sample(200, replace = True)\n",
    "    coff_mean = bootsamp[bootsamp['drinks_coffee'] == True]['height'].mean()\n",
    "    nocoff_mean = bootsamp[bootsamp['drinks_coffee'] == False]['height'].mean()\n",
    "    diffs.append(coff_mean - nocoff_mean)\n",
    "    \n",
    "np.percentile(diffs, 0.5), np.percentile(diffs, 99.5) \n",
    "# statistical evidence coffee drinkers are on average taller"
   ]
  },
  {
   "cell_type": "markdown",
   "metadata": {},
   "source": [
    "`2.` For 10,000 iterations, bootstrap sample your sample data, compute the difference in the average heights for those older than 21 and those younger than 21.  Build a 99% confidence interval using your sampling distribution.  Use your interval to finish answering the first quiz question below.  "
   ]
  },
  {
   "cell_type": "code",
   "execution_count": 13,
   "metadata": {},
   "outputs": [
    {
     "data": {
      "text/plain": [
       "(3.3652749452554795, 5.0932450670661495)"
      ]
     },
     "execution_count": 13,
     "metadata": {},
     "output_type": "execute_result"
    }
   ],
   "source": [
    "diffs_age = []\n",
    "for _ in range(10000):\n",
    "    bootsamp = sample_data.sample(200, replace = True)\n",
    "    under21_mean = bootsamp[bootsamp['age'] == '<21']['height'].mean()\n",
    "    over21_mean = bootsamp[bootsamp['age'] != '<21']['height'].mean()\n",
    "    diffs_age.append(over21_mean - under21_mean)\n",
    "    \n",
    "np.percentile(diffs_age, 0.5), np.percentile(diffs_age, 99.5)\n",
    "# statistical evidence that over21 are on average taller"
   ]
  },
  {
   "cell_type": "markdown",
   "metadata": {},
   "source": [
    "`3.` For 10,000 iterations bootstrap your sample data, compute the difference in the average height for coffee drinkers and the average height non-coffee drinkers for individuals under 21 years old.  Using your sampling distribution, build a 95% confidence interval.  Use your interval to start answering question 2 below."
   ]
  },
  {
   "cell_type": "code",
   "execution_count": 14,
   "metadata": {},
   "outputs": [
    {
     "data": {
      "text/plain": [
       "(1.0593651244624267, 2.5931557940679042)"
      ]
     },
     "execution_count": 14,
     "metadata": {},
     "output_type": "execute_result"
    }
   ],
   "source": [
    "diffs_coff_under21 = []\n",
    "for _ in range(10000):\n",
    "    bootsamp = sample_data.sample(200, replace = True)\n",
    "    under21_coff_mean = bootsamp.query(\"age == '<21' and drinks_coffee == True\")['height'].mean()\n",
    "    under21_nocoff_mean = bootsamp.query(\"age == '<21' and drinks_coffee == False\")['height'].mean()\n",
    "    diffs_coff_under21.append(under21_nocoff_mean - under21_coff_mean)\n",
    "    \n",
    "np.percentile(diffs_coff_under21, 2.5), np.percentile(diffs_coff_under21, 97.5)\n",
    "# For the under21 group, we have evidence that the non-coffee drinkers are on average taller"
   ]
  },
  {
   "cell_type": "markdown",
   "metadata": {},
   "source": [
    "`4.` For 10,000 iterations bootstrap your sample data, compute the difference in the average height for coffee drinkers and the average height non-coffee drinkers for individuals under 21 years old.  Using your sampling distribution, build a 95% confidence interval. Use your interval to finish answering the second quiz question below. As well as the following questions."
   ]
  },
  {
   "cell_type": "code",
   "execution_count": 15,
   "metadata": {},
   "outputs": [
    {
     "data": {
      "text/plain": [
       "(1.8278953970883667, 4.4026329654774337)"
      ]
     },
     "execution_count": 15,
     "metadata": {},
     "output_type": "execute_result"
    }
   ],
   "source": [
    "diffs_coff_over21 = []\n",
    "for _ in range(10000):\n",
    "    bootsamp = sample_data.sample(200, replace = True)\n",
    "    over21_coff_mean = bootsamp.query(\"age != '<21' and drinks_coffee == True\")['height'].mean()\n",
    "    over21_nocoff_mean = bootsamp.query(\"age != '<21' and drinks_coffee == False\")['height'].mean()\n",
    "    diffs_coff_over21.append(over21_nocoff_mean - over21_coff_mean)\n",
    "    \n",
    "np.percentile(diffs_coff_over21, 2.5), np.percentile(diffs_coff_over21, 97.5)\n",
    "# For the over21 group, we have evidence that on average the non-coffee drinkers are taller"
   ]
  },
  {
   "cell_type": "markdown",
   "metadata": {},
   "source": [
    "Within the under 21 and over 21 groups, we saw that on average non-coffee drinkers were taller.  But, when combined, we saw that on average coffee drinkers were on average taller.  This is again **Simpson's paradox**, and essentially there are more adults in the dataset who were coffee drinkers.  So these individuals made it seem like coffee drinkers were on average taller - which is a misleading result.  \n",
    "\n",
    "A larger idea for this is the idea of confounding variables altogether.  You will learn even more about these in the regression section of the course."
   ]
  },
  {
   "cell_type": "code",
   "execution_count": null,
   "metadata": {
    "collapsed": true
   },
   "outputs": [],
   "source": []
  }
 ],
 "metadata": {
  "kernelspec": {
   "display_name": "Python 3",
   "language": "python",
   "name": "python3"
  },
  "language_info": {
   "codemirror_mode": {
    "name": "ipython",
    "version": 3
   },
   "file_extension": ".py",
   "mimetype": "text/x-python",
   "name": "python",
   "nbconvert_exporter": "python",
   "pygments_lexer": "ipython3",
   "version": "3.6.1"
  }
 },
 "nbformat": 4,
 "nbformat_minor": 2
}
